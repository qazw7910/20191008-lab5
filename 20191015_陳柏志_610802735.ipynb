{
 "cells": [
  {
   "cell_type": "code",
   "execution_count": 8,
   "metadata": {},
   "outputs": [
    {
     "name": "stdout",
     "output_type": "stream",
     "text": [
      "成績60\n",
      "丙等\n"
     ]
    }
   ],
   "source": [
    "i = int(input(\"成績\"))\n",
    "\n",
    "if i >= 90:\n",
    "        print('優等')\n",
    "elif i>=80 and i<=89:\n",
    "        print('甲等')\n",
    "elif i>=70 and i<=79:\n",
    "        print('乙等')\n",
    "elif i>=60 and i<=69:\n",
    "        print('丙等')\n",
    "else:\n",
    "        print('丁等')"
   ]
  },
  {
   "cell_type": "code",
   "execution_count": 15,
   "metadata": {},
   "outputs": [
    {
     "name": "stdout",
     "output_type": "stream",
     "text": [
      "輸入9\n",
      "1 2 3 4 6 7 8 "
     ]
    }
   ],
   "source": [
    " a = int(input(\"輸入\"))\n",
    "for i in range(a):\n",
    "    if i % 5 == 0: \n",
    "        continue\n",
    "    else:\n",
    "        print(i,end=\" \")"
   ]
  },
  {
   "cell_type": "code",
   "execution_count": 14,
   "metadata": {},
   "outputs": [
    {
     "name": "stdout",
     "output_type": "stream",
     "text": [
      "輸入8\n",
      "40320\n"
     ]
    }
   ],
   "source": [
    "a = int(input(\"輸入\"))\n",
    "total = n = 1\n",
    "while(n<a):\n",
    "    n+=1\n",
    "    total =total*n\n",
    "print(total)"
   ]
  },
  {
   "cell_type": "code",
   "execution_count": null,
   "metadata": {},
   "outputs": [],
   "source": []
  }
 ],
 "metadata": {
  "kernelspec": {
   "display_name": "Python 3",
   "language": "python",
   "name": "python3"
  },
  "language_info": {
   "codemirror_mode": {
    "name": "ipython",
    "version": 3
   },
   "file_extension": ".py",
   "mimetype": "text/x-python",
   "name": "python",
   "nbconvert_exporter": "python",
   "pygments_lexer": "ipython3",
   "version": "3.7.3"
  }
 },
 "nbformat": 4,
 "nbformat_minor": 2
}
